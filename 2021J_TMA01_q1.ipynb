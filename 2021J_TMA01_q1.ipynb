{
 "cells": [
  {
   "cell_type": "markdown",
   "metadata": {},
   "source": [
    "# TMA01, question 1 (35 marks)"
   ]
  },
  {
   "cell_type": "markdown",
   "metadata": {},
   "source": [
    "**Name**: \\[Enter your name here\\]\n",
    "\n",
    "**PI**: \\[Enter your student ID here\\]"
   ]
  },
  {
   "cell_type": "markdown",
   "metadata": {},
   "source": [
    "In this question, you will investigate a dataset of opera performances. You are interested in the question:\n",
    "\n",
    "- Where do operatic performances take place in the United Kingdom?\n",
    "\n",
    "To address this question, you want to plot a map of the United Kingdom, with markers representing the locations of opera performances, with the size of the marker indicating the number of performances which took place at that location.\n",
    "\n",
    "For this task, you will only consider the 2017-2018 opera season.\n",
    "\n",
    "<img src=\"images/covent_garden.jpg\" alt=\"By Thomas Rowlandson (1756–1827) and Augustus Charles Pugin (1762–1832) (after) John Bluck (fl. 1791–1819), Joseph Constantine Stadler (fl. 1780–1812), Thomas Sutherland (1785–1838), J. Hill, and Harraden (engravers)\" style=\"width: 400px;\"/>\n",
    "\n",
    "<p style=\"text-align: center;\">The Covent Garden Theatre (<a href=\"https://commons.wikimedia.org/w/index.php?curid=15799255)\">Public Domain from wikimedia.org</a>)\n",
    "    \n"
   ]
  },
  {
   "cell_type": "markdown",
   "metadata": {},
   "source": [
    "\n",
    "The tasks in this notebook can be addressed using the techniques discussed in parts 2-6 of the module materials and the associated notebooks.\n",
    "\n",
    "The question has three parts, looking at different parts of the data analysis pipeline.\n",
    "\n",
    "Record all your activity and observations in this notebook. Insert additional notebook cells as required. Remember to run each cell in sequence and to rerun cells if you make any changes in earlier cells. \n",
    "\n",
    "Before you submit your notebook make sure you run all cells in order and check that you get the results you expect. (It is not unknown to receive notebooks which don't work when the cells are run in order. The most reliable way of checking your results is usually to use the menu option *Kernel $\\rightarrow$ Restart & Run All*.)"
   ]
  },
  {
   "cell_type": "markdown",
   "metadata": {},
   "source": [
    "Note that in this question you are required to use Python and the pandas library - this is to give you experience with using pandas and DataFrames to manipulate data."
   ]
  },
  {
   "cell_type": "markdown",
   "metadata": {},
   "source": [
    "**Note:** You should be prepared to use [the pandas documentation](https://pandas.pydata.org/docs/) to find the most appropriate functions or methods for your analysis."
   ]
  },
  {
   "cell_type": "code",
   "execution_count": null,
   "metadata": {},
   "outputs": [],
   "source": [
    "# This cell imports the standard pandas library.\n",
    "\n",
    "import pandas as pd\n",
    "\n",
    "# You will also need to plot a map, so import folium:\n",
    "\n",
    "import folium"
   ]
  },
  {
   "cell_type": "markdown",
   "metadata": {},
   "source": [
    "#### Contents"
   ]
  },
  {
   "cell_type": "markdown",
   "metadata": {},
   "source": [
    "[Data provenance and importing the data](#provenance)\n",
    "\n",
    "[Cleaning, reshaping and combining the data sets](#combining)\n",
    "\n",
    "[Visualising the data](#visualising)"
   ]
  },
  {
   "cell_type": "markdown",
   "metadata": {},
   "source": [
    "## <a id='provenance'></a>Data provenance, importing and shaping the data"
   ]
  },
  {
   "cell_type": "markdown",
   "metadata": {},
   "source": [
    "In this notebook, you will use two datasets. You can find these in the `data` directory. Although we have provided both for you here, even when someone passes you a dataset, you need to be able to confirm your usage rights for that data."
   ]
  },
  {
   "cell_type": "markdown",
   "metadata": {},
   "source": [
    "#### 1. Licensing for the Opera dataset"
   ]
  },
  {
   "cell_type": "markdown",
   "metadata": {},
   "source": [
    "The dataset for the 2017-2018 opera season is part of the larger dataset:\n",
    "\n",
    "    Cuntz, Alexander, 2020, \"Replication Data for: Grand rights and opera reuse today\",    \n",
    "    https://doi.org/10.7910/DVN/8LUFN8, Harvard Dataverse, V1\n",
    "\n",
    "It is stored as a csv file called `stats1718.csv` in the `data` directory. This dataset was obtained from the [Harvard dataverse portal](https://dataverse.harvard.edu/) on 13th March, 2021 from:\n",
    "\n",
    "https://dataverse.harvard.edu/dataset.xhtml?persistentId=doi:10.7910/DVN/8LUFN8\n"
   ]
  },
  {
   "cell_type": "markdown",
   "metadata": {},
   "source": [
    "Find the terms under which the dataset can be used, and state, with a quote and reference:\n",
    "    \n",
    "1. the specific statements which allow the OU to distribute the data to you, and\n",
    "1. the obligations placed on the OU when distributing the data.\n",
    "\n",
    "*(2 marks)*\n"
   ]
  },
  {
   "cell_type": "markdown",
   "metadata": {
    "hide_input": false,
    "tags": [
     "style-student"
    ]
   },
   "source": [
    "**Write your answer in this markdown cell**"
   ]
  },
  {
   "cell_type": "markdown",
   "metadata": {},
   "source": [
    "#### 2. Licensing for the City dataset"
   ]
  },
  {
   "cell_type": "markdown",
   "metadata": {},
   "source": [
    "The information about towns and cities in the world which have a population of more than 1000 people is stored as a text file in the `data` directory called `cities1000.txt`. This dataset was obtained from the [GeoNames geographical database](https://www.geonames.org/) page:\n",
    "\n",
    "https://download.geonames.org/export/dump/\n",
    "\n",
    "on 13th March, 2021."
   ]
  },
  {
   "cell_type": "markdown",
   "metadata": {},
   "source": [
    "The `cities1000.txt` file is governed by the [Creative Commons Attribution 4.0](https://creativecommons.org/licenses/by/4.0/) licence.\n",
    "\n",
    "\n",
    "Find the details of this licence, and state:\n",
    "1. the clauses of the licence which allow the OU to distribute the data to you, and\n",
    "2. the obligations that the licence places upon the OU when distributing the data.\n",
    "\n",
    "How do you know that the version in the `data` directory is the same as the one on the GeoNames site (on the day of download)?\n",
    "\n",
    "*(3 marks)*\n"
   ]
  },
  {
   "cell_type": "markdown",
   "metadata": {
    "hide_input": false,
    "tags": [
     "style-student"
    ]
   },
   "source": [
    "**Write your answer in this markdown cell**"
   ]
  },
  {
   "cell_type": "markdown",
   "metadata": {},
   "source": [
    "#### 3. Importing the opera dataset"
   ]
  },
  {
   "cell_type": "markdown",
   "metadata": {},
   "source": [
    "Each row of the opera dataset represents a run of performances of a particular opera in a given location. The details of the columns are given in the *notes* on the [dataset's host page](https://dataverse.harvard.edu/dataset.xhtml?persistentId=doi:10.7910/DVN/8LUFN8)."
   ]
  },
  {
   "cell_type": "markdown",
   "metadata": {},
   "source": [
    "Import the file `stats1718.csv`, and create a DataFrame named `uk_opera_df` which contains:\n",
    "- a column representing the town or city where the opera was performed, and\n",
    "- a column containing the number of performances of the opera in the run.\n",
    "\n",
    "The DataFrame should only contain those operas which were performed in the United Kingdom. In the file `stats1718.csv`, performances in the United Kingdom are represented by the two letter ISO code `uk`.\n",
    "\n",
    "You should ensure that the columns in your DataFrame `uk_operas_df` have meaningful names.\n",
    "\n",
    "Display a preview of the first five rows of the DataFrame.\n",
    "\n",
    "*(4 marks)*"
   ]
  },
  {
   "cell_type": "code",
   "execution_count": null,
   "metadata": {
    "hide_input": false,
    "tags": [
     "style-student"
    ]
   },
   "outputs": [],
   "source": [
    "# Write your answer in this code cell.\n",
    "# Use additional cells if necessary, including markdown\n",
    "# cells to explain your decisions and code."
   ]
  },
  {
   "cell_type": "markdown",
   "metadata": {},
   "source": [
    "#### 4. Importing the cities dataset"
   ]
  },
  {
   "cell_type": "markdown",
   "metadata": {},
   "source": [
    "Each row of the cities dataset represents a town or city with a population of more than 1000 people. The details of the columns are given on the [dataset's download page](http://download.geonames.org/export/dump/)."
   ]
  },
  {
   "cell_type": "markdown",
   "metadata": {},
   "source": [
    "Import the file `cities1000.txt`, and create a DataFrame named `uk_cities_df` which contains:\n",
    "- a column containing the name of the town or city,\n",
    "- a column containing the city's latitude, and\n",
    "- a column containing the city's longitude.\n",
    "\n",
    "You should ensure that the columns in your DataFrame `uk_cities_df` have meaningful names.\n",
    "\n",
    "The DataFrame should only contain those towns and cities in in the United Kingdom. In the file `cities1000.txt`, towns and cities in the United Kingdom are represented by the two letter ISO code `GB`.\n",
    "\n",
    "Display a preview of the first five rows of the DataFrame. \n",
    "\n",
    "*(4 marks)*"
   ]
  },
  {
   "cell_type": "code",
   "execution_count": null,
   "metadata": {
    "hide_input": false,
    "tags": [
     "style-student"
    ]
   },
   "outputs": [],
   "source": [
    "# Write your answer in this code cell.\n",
    "# Use additional cells if necessary, including markdown\n",
    "# cells to explain your decisions and code."
   ]
  },
  {
   "cell_type": "markdown",
   "metadata": {},
   "source": [
    "## <a id='combining'></a>Cleaning the data sets"
   ]
  },
  {
   "cell_type": "markdown",
   "metadata": {},
   "source": [
    "You want to combine the information on operatic performances with the geographical information on where the performances took place.\n",
    "\n",
    "Each row of the the `uk_operas_df` DataFrame contains the name of the town or city where a run of performances took place. Each row of the `uk_cities_df` DataFrame contains the name of the town or city at the location of the given coordinates.\n",
    "\n",
    "You notice that there are several discrepancies between the values in the two columns representing the towns or cities. These could lead to errors in such an analysis."
   ]
  },
  {
   "cell_type": "markdown",
   "metadata": {},
   "source": [
    "#### <a id='identifying_discrepancies'></a>5. Identifying discrepancies between the datasets"
   ]
  },
  {
   "cell_type": "markdown",
   "metadata": {},
   "source": [
    "When combining datasets, it is important to be systematic about investigating the differences in the columns that you want to use which contain equivalent values. "
   ]
  },
  {
   "cell_type": "markdown",
   "metadata": {},
   "source": [
    "Write a statement to generate a set of the town and city names in your DataFrame `uk_opera_df` which do not appear in the DataFrame `uk_cities_df`. \n",
    "\n",
    "*(1 mark)*"
   ]
  },
  {
   "cell_type": "code",
   "execution_count": null,
   "metadata": {
    "hide_input": false,
    "tags": [
     "style-student"
    ]
   },
   "outputs": [],
   "source": [
    "# Write your answer in this code cell.\n",
    "# Use additional cells if necessary, including markdown\n",
    "# cells to explain your decisions and code."
   ]
  },
  {
   "cell_type": "markdown",
   "metadata": {},
   "source": [
    "#### 6. Correcting the discrepancies between the datasets"
   ]
  },
  {
   "cell_type": "markdown",
   "metadata": {},
   "source": [
    "In order to combine the DataFrames `uk_opera_df` and `uk_cities_df` into a single DataFrame, you need to accommodate the variations in the town and city names in these two DataFrames. When investigating the UK opera season, you make the following observations:"
   ]
  },
  {
   "cell_type": "markdown",
   "metadata": {},
   "source": [
    "\n",
    "1. [Glyndebourne](https://www.glyndebourne.com/) is an opera house near the town of Lewes, so the occurrences of `Glyndebourne` should be altered to `Lewes`.\n",
    "\n",
    "2. [Iford Arts](https://ifordarts.org.uk/) is a small opera company based in based in Bradford on Avon near the town of Bath, so the occurrences of `Iford` should be altered to `Bradford-on-Avon`.\n",
    "\n",
    "3. The [Longborough Opera Festival](https://lfo.org.uk/) takes place near the town of Moreton-in-Marsh, so the occurrences of `Longborough` should be altered to `Moreton in Marsh`.\n",
    "\n",
    "4. [The Grange at Northington](https://thegrangefestival.co.uk/) hosts an annual opera festival in Northington near Winchester, so the occurrences of `Northington` should be altered to `Winchester`.\n",
    "\n",
    "5. [Snape Maltings](https://snapemaltings.co.uk/) is a member of the European Network of Opera Academies, based in Snape near Aldeburgh, so the occurrences of `Snape` should be altered to `Aldeburgh`.\n",
    "\n",
    "6. [Bampton Classical Opera](https://www.bamptonopera.org/) takes place at locations in Bampton and Westonbirt near Tetbury, so the occurrences of `Westonbirt` should be altered to `Tetbury`."
   ]
  },
  {
   "cell_type": "markdown",
   "metadata": {},
   "source": [
    "Use this information, **and the results of [part 5](#identifying_discrepancies)**, to ensure that the information about the town or city names in the two DataFrames is consistent. Remember to justify any further decisions you make in aligning the values in the DataFrames.\n",
    "\n",
    "*(8 marks)*"
   ]
  },
  {
   "cell_type": "code",
   "execution_count": null,
   "metadata": {
    "hide_input": false,
    "tags": [
     "style-student"
    ]
   },
   "outputs": [],
   "source": [
    "# Write your answer in this code cell.\n",
    "# Use additional cells if necessary, including markdown\n",
    "# cells to explain your decisions and code."
   ]
  },
  {
   "cell_type": "markdown",
   "metadata": {},
   "source": [
    "#### 7. Removing duplicates from the dataset"
   ]
  },
  {
   "cell_type": "markdown",
   "metadata": {},
   "source": [
    "You discover that two of the opera locations, `Buxton` and `Bangor` are ambiguous; the United Kingdom has more than one town named Buxton, and more than one town named Bangor.\n",
    "\n",
    "Either update or reconstruct your DataFrame `uk_cities_df`, so that it contains only one entry for `Buxton` and one entry for `Bangor`:\n",
    "\n",
    "- The entry for `Bangor` should refer to the Welsh town, which has a population of 17,988, rather than the Northern Irish town, which has a population of 60,385. \n",
    "\n",
    "- The entry for `Buxton` should refer to the town with a population of 21,300, rather than the village with a population of 1,316.\n",
    "\n",
    "*(4 marks)*"
   ]
  },
  {
   "cell_type": "code",
   "execution_count": null,
   "metadata": {
    "hide_input": false,
    "tags": [
     "style-student"
    ]
   },
   "outputs": [],
   "source": [
    "# Write your answer in this code cell.\n",
    "# Use additional cells if necessary, including markdown\n",
    "# cells to explain your decisions and code."
   ]
  },
  {
   "cell_type": "markdown",
   "metadata": {},
   "source": [
    "## <a id='visualising'></a>Visualising the data"
   ]
  },
  {
   "cell_type": "markdown",
   "metadata": {},
   "source": [
    "You have been asked to answer the question:\n",
    "\n",
    "- Where do operatic performances take place in the United Kingdom?\n",
    "\n",
    "Your task is to plot a map of the UK, containing markers where the size of each marker represents the number of opera performances which took place at that location in the 2017/2018 opera season.\n"
   ]
  },
  {
   "cell_type": "markdown",
   "metadata": {},
   "source": [
    "#### 8. Create a DataFrame containing plotting data"
   ]
  },
  {
   "cell_type": "markdown",
   "metadata": {},
   "source": [
    "To create your map, you should create a new DataFrame called `plot_df` that combines the data from your DataFrames `uk_operas_df` and `uk_cities_df`. Your DataFrame should have a row for each town or city, containing the name of the town or city, the latitude and longitude of the location and the total number of opera performances in the season."
   ]
  },
  {
   "cell_type": "markdown",
   "metadata": {},
   "source": [
    "For example, if the `uk_opera_df` DataFrame contained the data:\n",
    "\n",
    "| City | Performances |\n",
    "|----|----|\n",
    "|Oxford | 2 |\n",
    "|Oxford |\t3 |\n",
    "|Oxford\t| 2 |\n",
    "|Lincoln\t| 4 |\n",
    "|Lincoln\t| 4 |\n",
    "\n",
    "and your `uk_cities_df` DataFrame contained the data:\n",
    "\n",
    "| City | longitude | latitude |\n",
    "|----|----|----|\n",
    "|Oxford | 51.75222 | -1.25596 |\n",
    "|Lincoln\t| 53.22683 | -0.53792 |\n",
    "\n",
    "\n",
    "then your final DataFrame `plot_df` would contain the data:\n",
    "\n",
    "| City | longitude | latitude | Performances|\n",
    "|----|----|----|----|\n",
    "|Oxford | 51.75222 | -1.25596 | 7 |\n",
    "|Lincoln\t| 53.22683 | -0.53792 | 8|\n",
    "\n",
    "Note that your own DataFrames might look different from these; the important thing is that the data is correctly structured.\n"
   ]
  },
  {
   "cell_type": "markdown",
   "metadata": {},
   "source": [
    "When you have constructed your DataFrame, display the first 5 rows.\n",
    "\n",
    "*(4 marks)*"
   ]
  },
  {
   "cell_type": "code",
   "execution_count": null,
   "metadata": {
    "tags": [
     "style-student"
    ]
   },
   "outputs": [],
   "source": [
    "# Write your answer in this code cell.\n",
    "# Use additional cells if necessary, including markdown\n",
    "# cells to explain your decisions and code."
   ]
  },
  {
   "cell_type": "markdown",
   "metadata": {},
   "source": [
    "#### 9. Plot the data on a map"
   ]
  },
  {
   "cell_type": "markdown",
   "metadata": {},
   "source": [
    "Having created an appropriate DataFrame, you should now plot the data on a map.\n",
    "\n",
    "As stated, your task is to plot a map of the UK, containing markers such that:\n",
    "1. the location of the marker shows the location where one or more performances took place, and\n",
    "2. the size of each marker represents the number of opera performances which took place at that location in the 2017/2018 opera season.\n",
    "\n",
    "Your solution should be carried out using the folium library: you must provide Python commands which generate the required plot from your plotting DataFrame.\n",
    "\n",
    "Finally, comment on your map: where are the main venues for opera in the UK?\n",
    "\n",
    "*(5 marks)*\n",
    "\n"
   ]
  },
  {
   "cell_type": "code",
   "execution_count": null,
   "metadata": {
    "tags": [
     "style-student"
    ]
   },
   "outputs": [],
   "source": [
    "# Write your answer in this code cell.\n",
    "# Use additional cells if necessary, including markdown\n",
    "# cells to explain your decisions and code."
   ]
  },
  {
   "cell_type": "markdown",
   "metadata": {
    "tags": [
     "style-student"
    ]
   },
   "source": [
    "**Comment on your map in this markdown cell**"
   ]
  }
 ],
 "metadata": {
  "kernelspec": {
   "display_name": "Python 3 (ipykernel)",
   "language": "python",
   "name": "python3"
  },
  "language_info": {
   "codemirror_mode": {
    "name": "ipython",
    "version": 3
   },
   "file_extension": ".py",
   "mimetype": "text/x-python",
   "name": "python",
   "nbconvert_exporter": "python",
   "pygments_lexer": "ipython3",
   "version": "3.8.5"
  }
 },
 "nbformat": 4,
 "nbformat_minor": 2
}
