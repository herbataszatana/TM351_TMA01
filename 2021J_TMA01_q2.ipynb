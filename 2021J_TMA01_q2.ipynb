{
 "cells": [
  {
   "cell_type": "markdown",
   "source": [
    "# TMA01, question 2 (65 marks)"
   ],
   "metadata": {}
  },
  {
   "cell_type": "markdown",
   "source": [
    "**Name**: \\[Anna Duncan\\]\r\n",
    "\r\n",
    "**PI**: \\[K8748389\\]"
   ],
   "metadata": {}
  },
  {
   "cell_type": "markdown",
   "source": [
    "This TMA question gives you the opportunity to demonstrate your mastery of the techniques in carrying out a small-scale data analysis. Specifically, this question requires you to clean two datasets, combine and reshape them, and graphically present the cleaned data. All the techniques required to answer this question can be found in Parts 2-6 and are illustrated in the associated notebooks. \n",
    "\n",
    "**Note**: Although it is possible to carry out all the necessary analyses using the techniques shown in the notebooks, it is possible that there may be more effective ways of carrying out the various operations. If you find that a particular tasks seems hard to carry out with the techniques shown in the teaching materials, check the *pandas* documentation. There may well be a suitable technique available."
   ],
   "metadata": {}
  },
  {
   "cell_type": "markdown",
   "source": [
    "## The Task"
   ],
   "metadata": {}
  },
  {
   "cell_type": "markdown",
   "source": [
    "[Tuberculosis](https://en.wikipedia.org/wiki/Tuberculosis) is an extremely widespread and contagious disease, occurring in all the world's continents. Although the rate of successful treatment is improving, there are several groups who are at particular risk from the disease.\n",
    "\n",
    "One of these groups is people living with [HIV](https://en.wikipedia.org/wiki/HIV), who are more likely to develop active tuberculosis. In this part of the TMA, you will investigate health datasets to visualise possible correlations between different countries' rates of tuberculosis, the co-occurence of tuberculosis with HIV, and some economic factors of the countries in question. The economic factors to be considered are countries' [GINI coefficient](https://en.wikipedia.org/wiki/Gini_coefficient), which is a measure of the wealth inequality in a country, and the amount of a country's wealth held by its poorest citizens.\n",
    "\n",
    "You will be considering the questions:\n",
    "\n",
    "- The rate of tuberculosis among people living with HIV is higher than among those without HIV infection.\n",
    "    1. Is there a relationship between these relative rates, and a country's GINI index? \n",
    "    2. Is there a relationship between these relative rates, and the amount of a country's wealth held by the poorest 20% of citizens? \n"
   ],
   "metadata": {}
  },
  {
   "cell_type": "markdown",
   "source": [
    "To address these questions, you will investigate two datasets. The first details the number and rates of cases of tuberculosis in each country over a number of years, for tuberculosis as well as those which co-occur with HIV. The data was obtained from the World Health Organisation's [Global Health Observatory data repository](https://apps.who.int/gho/data/), on 28th June 2021, under the licence: [CC BY-NC-SA 3.0 IGO](https://creativecommons.org/licenses/by-nc-sa/3.0/igo/)."
   ],
   "metadata": {}
  },
  {
   "cell_type": "markdown",
   "source": [
    "You can find the tuberculosis data in the `data` directory as:\n",
    "\n",
    "    data/WHO_TB_data.csv\n",
    "    "
   ],
   "metadata": {}
  },
  {
   "cell_type": "markdown",
   "source": [
    "To obtain the various countries' GINI coefficient and wealth ownership data, you should use the data shared by the World Bank. The data was obtained from the [World Bank Open Data portal](https://data.worldbank.org/) on 27th April 2021, under the Creative Commons Attribution 4.0 International license ([CC-BY 4.0](https://creativecommons.org/licenses/by/4.0/))."
   ],
   "metadata": {}
  },
  {
   "cell_type": "markdown",
   "source": [
    "You can find the economic data in the subfolder:\n",
    "\n",
    "    data/Data_Extract_From_Poverty_and_Equity"
   ],
   "metadata": {}
  },
  {
   "cell_type": "markdown",
   "source": [
    "You must produce two graphical illustrations of the available data:\n",
    "\n",
    "1. The first graph should show the relationship between different countries' rate of tuberculosis, the rate of tuberculosis in people who are HIV-positive, and the GINI coefficient.\n",
    "\n",
    "1. The second graph should show the relationship between different countries' rate of tuberculosis, the rate of tuberculosis in people who are HIV-positive, and the income share held by that country's poorest 20%.\n",
    "\n",
    "You should then discuss what you believe your representations show.\n",
    "\n",
    "(65 marks)"
   ],
   "metadata": {}
  },
  {
   "cell_type": "markdown",
   "source": [
    "### Some Guidance"
   ],
   "metadata": {}
  },
  {
   "cell_type": "markdown",
   "source": [
    "There are many ways you could approach this task, but one way might be to produce a *pandas* dataframe, containing values so that the appropriate tuberculosis and economic data is contained in the dataframe. The final dataframe might then look something like this:"
   ],
   "metadata": {}
  },
  {
   "cell_type": "markdown",
   "source": [
    "|Country|TB infections per 100,000|TB infections with HIV per 100,000|GINI coefficient|Income share of poorest 20%|\n",
    "|---|---|---|---|---|\n",
    "|Canada | 0.013 | 0.002 |23.6 | 8.7 |\n",
    "|Japan | 0.001 | 0.000 | 34.1 | 6.2|\n",
    "| $\\vdots$ | $\\vdots$ | $\\vdots$ |$\\vdots$ | $\\vdots$ |"
   ],
   "metadata": {}
  },
  {
   "cell_type": "markdown",
   "source": [
    "(although note that the entries 0.013, 0.002, 23.6, ... are just for illustration; they are not necessarily the correct values for the question)."
   ],
   "metadata": {}
  },
  {
   "cell_type": "markdown",
   "source": [
    "You should then construct plots showing the relationships between the rates of infection with and without HIV, and the economic data indicator for the country.\n",
    "\n",
    "You should also give an explanation of what you believe your plots show."
   ],
   "metadata": {}
  },
  {
   "cell_type": "markdown",
   "source": [
    "**Note**: Both datasets contain data covering several years. For this task, you are not expected to provide a time series. Instead you should focus on the data for 2018, which we will take as being a representative year. **However, you may need to consider and possibly use, data from other years to provide as representative a view of TB worldwide as possible**."
   ],
   "metadata": {}
  },
  {
   "cell_type": "markdown",
   "source": [
    "## Presenting Your Work<a id='presentation_tips'></a>"
   ],
   "metadata": {}
  },
  {
   "cell_type": "markdown",
   "source": [
    "This TMA question is designed to develop your skills in carrying out and presenting an independent data investigation. As such, your final notebook should have a clear narrative explaining *what* you are doing at each stage, and *why*. This means that you must:\n",
    "\n",
    "* explain how you are handling the data, including explaining the code that you have written,\n",
    "\n",
    "* clearly explain any assumptions or simplifications that you have made about the data, and\n",
    "\n",
    "* interpret your final results in the context of these assumptions and simplifications.\n"
   ],
   "metadata": {}
  },
  {
   "cell_type": "markdown",
   "source": [
    "Each operation should be presented in its own code cell (or cells, if it is clearer to break the code up a bit) and be preceded by at least one markdown cell explaining what the code is intended to do. You should also use the markdown to justify your decisions.\n",
    "\n",
    "For example, if you were carrying out the data investigation from question 1 of this TMA, and you had noticed that one dataset contains entries for Glyndebourne, and the other contains entries for Lewes, you might write a markdown cell along the lines of:\n",
    "> The first dataset contains entries for `Glyndebourne` which are not in the second dataset. The second dataset contains entries for `Lewes` which are not in the first dataset. As Glyndebourne represents an opera house near the town of Lewes, I will use Lewes as the nearest town to represent operas which took place at Glyndebourne. The occurrences of `Glyndebourne` in the first dataset should be therefore be replaced with `Lewes`.\n",
    "\n",
    "before writing a code cell to replace occurrences of `Glyndebourne` with `Lewes` in the appropriate dataset.\n",
    "\n",
    "In this case, the markdown describes:\n",
    "\n",
    "- what the problem is (inconsistent data),\n",
    "- what I'm doing about it (replacing `Glyndebourne` with `Lewes` in one of the datasets), and\n",
    "- why I'm doing it (it's reasonable to treat Glyndebourne and Lewes as being in the same location).\n",
    "\n",
    "Note that you are *not* expected to have extensive domain specific knowledge for TM351. In this case, if you don't know much about British opera, you might have felt that a better solution would be to have rows for Glyndebourne with null values in the final dataset. That would be fine too, provided that you explained why you had made that decision. In TM351 you will be rewarded for making reasonable decisions, clearly justifying them, correctly implementing them and explaining what you have done."
   ],
   "metadata": {}
  },
  {
   "cell_type": "markdown",
   "source": [
    "Some general considerations on presentation:\n",
    "\n",
    "* You must present your answer in this notebook.\n",
    "    \n",
    "* Do not put too much text or code into each notebook cell. Text or markdown cells should contain one or two paragraphs at most. Code cells should contain around ten lines of code (or less).\n",
    "\n",
    "* Ensure that your code is clear enough for a reader (in this case your tutor) to understand, For example, you should use meaningful variable names, comments where appropriate and so on.\n",
    "\n",
    "* You should have a specific cell whose return value is the dataframe described above, or an equivalent that you will use to generate your final plots.\n",
    "\n",
    "* You should have two specific cells which give the plots of the data that you require."
   ],
   "metadata": {}
  },
  {
   "cell_type": "markdown",
   "source": [
    "### Using Tools Outside the Notebooks"
   ],
   "metadata": {}
  },
  {
   "cell_type": "markdown",
   "source": [
    "Unlike question 1 of this TMA, you do not have to use Python or *pandas* to carry out all of your analyses for this question; you may use any analysis tool which has been covered so far in the module (but not tools which have not been covered). However, if you do not use Python, you must provide screenshots of the tools you did use in order to show your working, and to enable your reader to replicate your analysis. To display an image in your notebook, you should use the appropriate HTML code in a markdown cell:\n",
    "```html\n",
    "<img src=\"myScreenshot.jpg\"> \n",
    "```\n",
    "or\n",
    "```html\n",
    "<img src=\"myScreenshot.png\"> \n",
    "```\n",
    "(where `myScreenshot.jpg` or `myScreenshot.png` is the name of your screenshot image; the image will be shown when you run the cell, and the form of the image is determined from the extension). It is good practice to keep your screenshots in a separate folder; if you do so, then modify the syntax to be:\n",
    "```html\n",
    "<img src=\"images/myScreenshot.jpg\">\n",
    "```\n",
    "or\n",
    "```html\n",
    "<img src=\"images/myScreenshot.png\">\n",
    "```\n",
    "where `images` is the name of the folder containing your screenshot files.\n",
    "\n",
    "Remember to include all your images in the TMA zip file that you submit to the eTMA system."
   ],
   "metadata": {}
  },
  {
   "cell_type": "markdown",
   "source": [
    "## Structuring Your Answer"
   ],
   "metadata": {}
  },
  {
   "cell_type": "markdown",
   "source": [
    "This question requires that you complete a number of tasks:\n",
    "\n",
    "1. You will need to identify the licences governing the data you use, and identify and quote the specific clauses which show that you are permitted to carry out your chosen analysis.\n",
    "\n",
    "2. You may decide to carry out some preprocessing on the datasets before importing them using OpenRefine.\n",
    "\n",
    "3. You need to import the two datasets into Python.\n",
    "\n",
    "4. You will need to restructure the data into a dataframe in the form described above. You will need to reshape the data, and possibly carry out further cleaning.\n",
    "\n",
    "5. Finally, you should select a visualisation method for the data in the dataset, and present two visualisations of the data, with a description of how you think they should be interpreted. We are not prescribing a particular choice of visualisation: you should choose one that you think is appropriate and clear.\n",
    "\n",
    "For stages 2 and 4 you must examine the datasets and process them in a way that will enable you to create the desired visualisation. You should consider questions such as:\n",
    "\n",
    "- Is there ambiguity in the dataset? (That is, are there aspects of the data which are unclear, and/or not documented?)\n",
    "    \n",
    "- Is any data missing from the datasets?\n",
    "    \n",
    "- Is there any dirtiness in the datasets, or inconsistency in how the data is represented between the two datasets?\n",
    "    \n",
    "In each case, you should describe the problem you have found with the data. You should then clearly explain how you have handled it, [as described above](#presentation_tips).\n",
    "\n"
   ],
   "metadata": {}
  },
  {
   "cell_type": "markdown",
   "source": [
    "We have provided a structure for your answer. The headings do not represent equal amounts of work, because different datasets and different tasks require the effort to be spent in different places. Also, you may need to use several cells to address a particular heading. For example, you would expect to present substantially more work on reshaping the data, than on importing the datasets."
   ],
   "metadata": {}
  },
  {
   "cell_type": "markdown",
   "source": [
    "#### Approximate breakdown of marks\n",
    "\n",
    "The following table gives an *approximate* breakdown of how marks might be awarded. Be aware that your tutor has considerable discretion about where to award marks, and the final allocation might vary depending upon how you choose to approach the various subtasks in the investigation. In particular, bear in mind that Level 3 is about critical reflection, so your overall approach and analysis of your results are at least as important as the code that you write."
   ],
   "metadata": {}
  },
  {
   "cell_type": "markdown",
   "source": [
    "| Category | Number of marks |\n",
    "|-----------------|-------|\n",
    "| 1. Identify and Explain the Relevant Licensing Terms and Conditions | 5 |\n",
    "| 2. Preprocess the Data (if applicable) | (\\*) |\n",
    "| 3. Import the Datasets | 5 |\n",
    "|4. Clean and Reshape the Data | (\\*)25 |\n",
    "|5. Put the data into an appropriate form for plotting | 5 |\n",
    "|6. Visualise the data | 10 |\n",
    "|7. Interpret the plot | 5 |\n",
    "|Presentation (not explicit in the structure) | 10 |"
   ],
   "metadata": {}
  },
  {
   "cell_type": "markdown",
   "source": [
    "\n",
    "(\\*) Taken together categories 2 and 4 are worth 25 marks. If you choose to do much of the cleaning and reshaping of the data in OpenRefine many of those marks will be awarded in category 2 for preprocessing the data before it is imported. If you do all your work in *pandas* there will be no preprocessing and all the marks will be awarded in category 4. If you use a mix of OpenRefine and *pandas* the marks will be distributed appropriately."
   ],
   "metadata": {}
  },
  {
   "cell_type": "markdown",
   "source": [
    "-----------------------------------------------------------------------"
   ],
   "metadata": {}
  },
  {
   "cell_type": "markdown",
   "source": [
    "\n",
    "## Your Answer"
   ],
   "metadata": {}
  },
  {
   "cell_type": "markdown",
   "source": [
    "#### 1. Identify and Explain the Relevant Licensing Terms and Conditions"
   ],
   "metadata": {}
  },
  {
   "cell_type": "markdown",
   "source": [
    "Provided by WHO WHO_TB_data.csv is under CC BY-NC-SA 3.0 IGO licence, which enables to:\r\n",
    "    \"Share — copy and redistribute the material in any medium or format\r\n",
    "    Adapt — remix, transform, and build upon the material.\" \r\n",
    "    \r\n",
    "    \r\n",
    "    Under following terms and conditions: \r\n",
    "    \"Attribution — You must give appropriate credit, provide a link to the license, and indicate if changes were made. You may do so in any reasonable manner, but not in any way that suggests the licensor endorses you or your use.\r\n",
    "\r\n",
    "    NonCommercial — You may not use the material for commercial purposes.\r\n",
    "\r\n",
    "\r\n",
    "    ShareAlike — If you remix, transform, or build upon the material, you must distribute your contributions under the same license as the original.\r\n",
    "    \r\n",
    "    No additional restrictions — You may not apply legal terms or technological measures that legally restrict others from doing anything the license permits.\"\r\n",
    " \r\n",
    "Data was taken from: https://apps.who.int/gho/data/node.home\r\n",
    "\r\n",
    "The World Bank's data Data_Extract_From_Poverty_and_Equity (c0ce4725-2949-4fa4-9e82-5638a88457b1_Data.csv \r\n",
    "and c0ce4725-2949-4fa4-9e82-5638a88457b1_Series - Metadata.csv) are under CC BY 4.0 licence under which it is:\r\n",
    "\r\n",
    "    \"free to:\r\n",
    "Share — copy and redistribute the material in any medium or format\r\n",
    "Adapt — remix, transform, and build upon the material\r\n",
    "The licensor cannot revoke these freedoms as long as you follow the license terms.\"\r\n",
    "\r\n",
    "And \"under the following terms:\r\n",
    "    Attribution — You must give appropriate credit, provide a link to the license, \r\n",
    "    and indicate if changes were made. You may do so in any reasonable manner, but \r\n",
    "    not in any way that suggests the licensor endorses you or your use.\r\n",
    "\r\n",
    "    NonCommercial — You may not use the material for commercial purposes.\r\n",
    "\r\n",
    "    ShareAlike — If you remix, transform, or build upon the material, you \r\n",
    "    must distribute your contributions under the same license as the original.\r\n",
    "\r\n",
    "    No additional restrictions — You may not apply legal terms or technological \r\n",
    "    measures that legally restrict others from doing anything the license permits.\"\r\n",
    "    \r\n",
    "Data was taken from: https://data.worldbank.org/"
   ],
   "metadata": {}
  },
  {
   "cell_type": "markdown",
   "source": [
    "#### 2. Preprocess the Data (if applicable)"
   ],
   "metadata": {}
  },
  {
   "cell_type": "code",
   "execution_count": null,
   "source": [
    "#Download libraries \r\n",
    "import pandas as pd\r\n",
    "import numpy as np\r\n",
    "import seaborn as sns\r\n",
    "import matplotlib.pyplot as plt"
   ],
   "outputs": [],
   "metadata": {}
  },
  {
   "cell_type": "markdown",
   "source": [
    "#### 3. Import the Datasets"
   ],
   "metadata": {}
  },
  {
   "cell_type": "code",
   "execution_count": null,
   "source": [
    "#TUBERCULOSIS DATA\r\n",
    "#Import the DB datasets to check how it looks if it needs clean up etc\r\n",
    "tb_data = pd.read_csv('data/WHO_TB_data.csv', sep=',', usecols=(0,1,3,6) )\r\n",
    "\r\n",
    "\r\n",
    "#POVERTY AND EQUINTY \r\n",
    "#Create World Bank's data for the Data_Extract_From_Poverty_and_Equity\r\n",
    "WB_data = pd.read_csv('data/Data_Extract_From_Poverty_and_Equity/c0ce4725-2949-4fa4-9e82-5638a88457b1_Data.csv',sep=',',usecols=[0,2,13])\r\n"
   ],
   "outputs": [],
   "metadata": {}
  },
  {
   "cell_type": "markdown",
   "source": [
    "#### 4. Clean and Reshape the Data"
   ],
   "metadata": {}
  },
  {
   "cell_type": "code",
   "execution_count": null,
   "source": [
    "#TUBERCULOSIS DATA\r\n",
    "\r\n",
    "#Ensure that TB's df is for the representative year (2018) only\r\n",
    "tb_data18 = tb_data[tb_data['Year']==2018]\r\n",
    "\r\n",
    "#Reshape tb_data18 to present only needed columns\r\n",
    "tb_data18 = tb_data18.drop(['Year'], axis=1)\r\n",
    "\r\n",
    "#Rename columns to pave way of removing brackets with content from column [1] and [2]\r\n",
    "tb_data18 = tb_data18.rename(columns={'Incidence of tuberculosis (per 100 000 population per year)': 'TB infections per 100000', 'Incidence of tuberculosis (per 100 000 population) (HIV-positive cases)': 'TB infections with HIV per 100000'})\r\n",
    "\r\n",
    "#Removing brackets and it's content leaving only the actual number not a range  \r\n",
    "tb_data18['TB infections per 100000'] = tb_data18['TB infections per 100000'].str.replace(r\"\\[.*\\]\",\"\", regex= True)\r\n",
    "tb_data18['TB infections with HIV per 100000'] = tb_data18['TB infections with HIV per 100000'].str.replace(r\"\\[.*\\]\",\"\", regex= True)\r\n",
    "\r\n",
    "#Removing rows with missing values \r\n",
    "tb_data18.dropna(subset = ['TB infections with HIV per 100000'], inplace=True)\r\n",
    "tb_data18.dropna(subset = ['TB infections per 100000'], inplace=True)\r\n",
    "\r\n",
    "#POVERTY AND EQUINTY \r\n",
    "#create dataframe that will include only necesary for the first graph content\r\n",
    "WB_data_first = WB_data[WB_data['Series Name']=='Gini index (World Bank estimate)']\r\n",
    "\r\n",
    "#create dataframe that will include only necesary for the second graph content\r\n",
    "WB_data_second = WB_data[WB_data['Series Name']=='Income share held by lowest 20%']\r\n",
    "\r\n",
    "#Change column names to pave way to the data cleaning\r\n",
    "WB_data_first = WB_data_first.rename(columns={'2018 [YR2018]': 'Gini index', '2018 [YR2018]': 'Gini index'})\r\n",
    "WB_data_second = WB_data_second.rename(columns={'2018 [YR2018]': 'Income share held by the lowest 20 percent', '2018 [YR2018]': 'Income share held by the lowest 20 percent'})\r\n",
    "WB_data_first = WB_data_first.rename(columns={'Country Name': 'Country', 'Country Name': 'Country'})\r\n",
    "WB_data_second = WB_data_second.rename(columns={'Country Name': 'Country', 'Country Name': 'Country'})\r\n",
    "\r\n",
    "\r\n",
    "#Transofrm missing data to NaN\r\n",
    "WB_data_first=WB_data_first.replace({'..':np.NaN})\r\n",
    "WB_data_second=WB_data_second.replace({'..':np.NaN})\r\n",
    "\r\n",
    "#Remove NaN rows \r\n",
    "WB_data_first.dropna(subset=['Gini index'], inplace=True)\r\n",
    "WB_data_second.dropna(subset=['Income share held by the lowest 20 percent'], inplace=True)\r\n",
    "\r\n",
    "#Drop colum Series name to keep only needed columns\r\n",
    "WB_data_first = WB_data_first.drop(['Series Name'], axis=1)\r\n",
    "WB_data_second = WB_data_second.drop(['Series Name'], axis=1)\r\n",
    "\r\n",
    "#Create dataframe for the graphs\r\n",
    "first_chart_df = pd.merge(tb_data18, WB_data_first, on='Country')\r\n",
    "second_chart_df = pd.merge(tb_data18, WB_data_second, on='Country')"
   ],
   "outputs": [],
   "metadata": {}
  },
  {
   "cell_type": "markdown",
   "source": [
    "#### 5. Put the data into an appropriate form for plotting"
   ],
   "metadata": {}
  },
  {
   "cell_type": "code",
   "execution_count": null,
   "source": [
    "#I was getting 'No numeric data error' therefore I needed to investigate what values I am trying to plot\r\n",
    "first_chart_df.dtypes\r\n",
    "\r\n",
    "#I had to then convert everyting from object to float \r\n",
    "first_chart_df['TB infections per 100000']=first_chart_df['TB infections per 100000'].astype(float)\r\n",
    "first_chart_df['TB infections with HIV per 100000']=first_chart_df['TB infections with HIV per 100000'].astype(float)\r\n",
    "first_chart_df['Gini index']=first_chart_df['Gini index'].astype(float)\r\n",
    "#Similary checking the types \r\n",
    "first_chart_df.dtypes\r\n",
    "\r\n",
    "#Convert them to numberic data\r\n",
    "second_chart_df['TB infections per 100000']=second_chart_df['TB infections per 100000'].astype(float)\r\n",
    "second_chart_df['TB infections with HIV per 100000']=second_chart_df['TB infections with HIV per 100000'].astype(float)\r\n",
    "second_chart_df['Income share held by the lowest 20 percent']=second_chart_df['Income share held by the lowest 20 percent'].astype(float)"
   ],
   "outputs": [],
   "metadata": {}
  },
  {
   "cell_type": "markdown",
   "source": [
    "#### 6. Visualise the data"
   ],
   "metadata": {}
  },
  {
   "cell_type": "code",
   "execution_count": null,
   "source": [
    "#Visualise first graph: The first graph should show the relationship between different countries' \r\n",
    "#rate of tuberculosis, the rate of tuberculosis in people who are HIV-positive, and the GINI coefficient.\r\n",
    "\r\n",
    "ax = first_chart_df[['TB infections per 100000', 'TB infections with HIV per 100000', 'Gini index']].plot.bar(width=1)\r\n",
    "ax.set_ylabel('Value')\r\n",
    "ax.set_title('Graph 1')\r\n",
    "ax.legend()\r\n",
    "ax.set_xticklabels(first_chart_df['Country'], rotation=90)\r\n",
    "\r\n",
    "#Visualise the second graph The second graph should show the relationship between different countries' rate of tuberculosis, the rate \r\n",
    "#of tuberculosis in people who are HIV-positive, and the income share held by that country's poorest 20%.\r\n",
    "\r\n",
    "ax2 =second_chart_df[['TB infections per 100000', 'TB infections with HIV per 100000', 'Income share held by the lowest 20 percent']].plot.bar(width=1)\r\n",
    "ax2.set_ylabel('Value')\r\n",
    "ax2.set_title('Graph 2')\r\n",
    "ax2.legend()\r\n",
    "ax2.set_xticklabels(first_chart_df['Country'], rotation=90)\r\n"
   ],
   "outputs": [],
   "metadata": {}
  },
  {
   "cell_type": "markdown",
   "source": [
    "#### 7. Interpret the plots"
   ],
   "metadata": {}
  },
  {
   "cell_type": "markdown",
   "source": [
    "From graph 2 you can see there is strong corelation those whose income share was held \r\n",
    "by the lowest 20% and the number of TB infections suggesting that the lower income \r\n",
    "increases chances of TB infection. In a graph 1 you can see that there is a relation \r\n",
    "between higher GINI index and higher TB infection rates. Annother noticeable feature is that\r\n",
    "countries with the higher TB rates also have highet TB infection among people with HIV. "
   ],
   "metadata": {}
  }
 ],
 "metadata": {
  "kernelspec": {
   "name": "python3",
   "display_name": "Python 3.7.8 64-bit"
  },
  "language_info": {
   "codemirror_mode": {
    "name": "ipython",
    "version": 3
   },
   "file_extension": ".py",
   "mimetype": "text/x-python",
   "name": "python",
   "nbconvert_exporter": "python",
   "pygments_lexer": "ipython3",
   "version": "3.7.8"
  },
  "interpreter": {
   "hash": "57baa5815c940fdaff4d14510622de9616cae602444507ba5d0b6727c008cbd6"
  }
 },
 "nbformat": 4,
 "nbformat_minor": 2
}